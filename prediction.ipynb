{
 "cells": [
  {
   "cell_type": "markdown",
   "metadata": {},
   "source": [
    "# CIML Predictions\n",
    "\n",
    "In this notebook we train and evaluate CIML experiments using the functions `gather_results` and `tf_trainer functions` of the [ciml project](https://github.com/mtreinish/ciml). \n",
    "<br>Then we save the predictions of the experiments for a deeper analysis of the metrics of the trained models (see [CIML Metric Report](https://nbviewer.jupyter.org/github/kwulffert/ciml_experiments/blob/master/Metrics%20report.ipynb))."
   ]
  },
  {
   "cell_type": "code",
   "execution_count": 58,
   "metadata": {},
   "outputs": [],
   "source": [
    "from ciml import gather_results\n",
    "from ciml import tf_trainer\n",
    "import numpy as np\n",
    "import pandas as pd\n",
    "import collections\n",
    "import tensorflow as tf\n",
    "from tensorflow.python.training import adagrad\n",
    "from tensorflow.python.util import deprecation\n",
    "deprecation._PRINT_DEPRECATION_WARNINGS = False"
   ]
  },
  {
   "cell_type": "markdown",
   "metadata": {},
   "source": [
    "First we define the data path, dataset and experiment to gather the right input dataset and the configuration for the experiment."
   ]
  },
  {
   "cell_type": "code",
   "execution_count": 59,
   "metadata": {},
   "outputs": [],
   "source": [
    "data_path = '/Users/kw/ciml_data/cimlodsceu2019seed'\n",
    "\n",
    "#Dataset and experiment combination for multiple classification\n",
    "#dataset = 'usr_1m-1min-node_provider'\n",
    "#experiment = 'dnn-3x100-500epochs-bs128'\n",
    "\n",
    "#Dataset and experiment combination for binary classification\n",
    "dataset = 'usr_1m-1min-status'\n",
    "experiment = 'dnn-5x100-500epochs-bs128'"
   ]
  },
  {
   "cell_type": "code",
   "execution_count": 60,
   "metadata": {},
   "outputs": [],
   "source": [
    "experiment_data = gather_results.load_experiment(\n",
    "        experiment, data_path=data_path)\n",
    "dataset_data = gather_results.load_model_config(\n",
    "        dataset, data_path=data_path)"
   ]
  },
  {
   "cell_type": "markdown",
   "metadata": {
    "scrolled": true
   },
   "source": [
    "The dataset and experiment_data are dictionaries with the following structure:"
   ]
  },
  {
   "cell_type": "code",
   "execution_count": 61,
   "metadata": {},
   "outputs": [
    {
     "data": {
      "text/plain": [
       "dict_keys(['build_name', 'sample_interval', 'features_regex', 'class_label', 'aggregation_functions', 'training_set', 'dev_set', 'test_set', 'normalized_length', 'labels', 'num_columns', 'num_features', 'normalization_params'])"
      ]
     },
     "execution_count": 61,
     "metadata": {},
     "output_type": "execute_result"
    }
   ],
   "source": [
    "dataset_data.keys()"
   ]
  },
  {
   "cell_type": "code",
   "execution_count": 62,
   "metadata": {},
   "outputs": [
    {
     "data": {
      "text/plain": [
       "{'estimator': 'tf.estimator.DNNClassifier',\n",
       " 'params': {},\n",
       " 'hyper_params': {'steps': 9500,\n",
       "  'batch_size': '128',\n",
       "  'epochs': '500',\n",
       "  'hidden_units': [100, 100, 100, 100, 100],\n",
       "  'optimizer': 'Adagrad',\n",
       "  'learning_rate': 0.05}}"
      ]
     },
     "execution_count": 62,
     "metadata": {},
     "output_type": "execute_result"
    }
   ],
   "source": [
    "experiment_data"
   ]
  },
  {
   "cell_type": "markdown",
   "metadata": {},
   "source": [
    "We now set up the experiment and configure the estimator."
   ]
  },
  {
   "cell_type": "code",
   "execution_count": 63,
   "metadata": {},
   "outputs": [],
   "source": [
    "estimator = experiment_data['estimator']\n",
    "hyper_params = experiment_data['hyper_params']\n",
    "params = experiment_data['params']\n",
    "steps = int(hyper_params['steps'])\n",
    "num_epochs = int(hyper_params['epochs'])\n",
    "batch_size = int(hyper_params['batch_size'])\n",
    "optimizer = hyper_params['optimizer']\n",
    "learning_rate = float(hyper_params['learning_rate'])\n",
    "class_label = dataset_data['class_label']\n",
    "labels = gather_results.load_dataset(dataset, 'labels', data_path=data_path)['labels']\n",
    "training_data = gather_results.load_dataset(dataset, 'training', data_path=data_path)\n",
    "test_data = gather_results.load_dataset(dataset, 'test', data_path=data_path)\n",
    "\n",
    "#label_vocabulary = None\n",
    "if class_label == 'node_provider':\n",
    "    label_vocabulary = set(['rax', 'ovh', 'packethost-us-west-1',\n",
    "                            'vexxhost', 'limestone-regionone',\n",
    "                            'inap-mtl01', 'fortnebula-regionone'])\n",
    "elif class_label == 'node_provider_all':\n",
    "    label_vocabulary = set(['rax-iad', 'ovh-bhs1', 'packethost-us-west-1',\n",
    "                            'rax-dfw', 'vexxhost-ca-ymq-1', 'ovh-gra1',\n",
    "                            'limestone-regionone', 'inap-mtl01', 'rax-ord',\n",
    "                            'vexxhost-sjc1', 'fortnebula-regionone'])\n",
    "else:\n",
    "    label_vocabulary = None\n",
    "\n",
    "model_dir = gather_results.get_model_folder(dataset, experiment, data_path=data_path)\n"
   ]
  },
  {
   "cell_type": "code",
   "execution_count": 64,
   "metadata": {},
   "outputs": [
    {
     "name": "stdout",
     "output_type": "stream",
     "text": [
      "INFO:tensorflow:Using config: {'_model_dir': '/Users/kw/ciml_data/cimlodsceu2019seed/usr_1m-1min-status/dnn-5x100-500epochs-bs128', '_tf_random_seed': None, '_save_summary_steps': 100, '_save_checkpoints_steps': None, '_save_checkpoints_secs': 300, '_session_config': allow_soft_placement: true\n",
      ", '_keep_checkpoint_max': 10, '_keep_checkpoint_every_n_hours': 10000, '_log_step_count_steps': 100, '_train_distribute': None, '_device_fn': None, '_protocol': None, '_eval_distribute': None, '_experimental_distribute': None, '_experimental_max_worker_delay_secs': None, '_session_creation_timeout_secs': 7200, '_service': None, '_cluster_spec': ClusterSpec({}), '_task_type': 'worker', '_task_id': 0, '_global_id_in_cluster': 0, '_master': '', '_evaluation_master': '', '_is_chief': True, '_num_ps_replicas': 0, '_num_worker_replicas': 1}\n"
     ]
    }
   ],
   "source": [
    "estimator = tf_trainer.get_estimator(\n",
    "        estimator, hyper_params, params, labels, model_dir,\n",
    "        optimizer=adagrad.AdagradOptimizer(learning_rate=0.05),\n",
    "        label_vocabulary=label_vocabulary, gpu=False)"
   ]
  },
  {
   "cell_type": "markdown",
   "metadata": {},
   "source": [
    "We train the model."
   ]
  },
  {
   "cell_type": "code",
   "execution_count": 65,
   "metadata": {},
   "outputs": [],
   "source": [
    "input_fn=tf_trainer.get_input_fn(shuffle=True,\n",
    "                    batch_size=batch_size, num_epochs=num_epochs,\n",
    "                    labels=labels, **training_data)"
   ]
  },
  {
   "cell_type": "code",
   "execution_count": 66,
   "metadata": {},
   "outputs": [
    {
     "name": "stdout",
     "output_type": "stream",
     "text": [
      "INFO:tensorflow:Calling model_fn.\n",
      "WARNING:tensorflow:Layer dnn is casting an input tensor from dtype float64 to the layer's dtype of float32, which is new behavior in TensorFlow 2.  The layer has dtype float32 because it's dtype defaults to floatx.\n",
      "\n",
      "If you intended to run this layer in float32, you can safely ignore this warning. If in doubt, this warning is likely only an issue if you are porting a TensorFlow 1.X model to TensorFlow 2.\n",
      "\n",
      "To change all layers to have dtype float64 by default, call `tf.keras.backend.set_floatx('float64')`. To change just this layer, pass dtype='float64' to the layer constructor. If you are the author of this layer, you can disable autocasting by passing autocast=False to the base Layer constructor.\n",
      "\n",
      "INFO:tensorflow:Done calling model_fn.\n",
      "INFO:tensorflow:Create CheckpointSaverHook.\n",
      "INFO:tensorflow:Graph was finalized.\n",
      "INFO:tensorflow:Restoring parameters from /Users/kw/ciml_data/cimlodsceu2019seed/usr_1m-1min-status/dnn-5x100-500epochs-bs128/model.ckpt-27858\n",
      "INFO:tensorflow:Running local_init_op.\n",
      "INFO:tensorflow:Done running local_init_op.\n",
      "INFO:tensorflow:Calling checkpoint listeners before saving checkpoint 27858...\n",
      "INFO:tensorflow:Saving checkpoints for 27858 into /Users/kw/ciml_data/cimlodsceu2019seed/usr_1m-1min-status/dnn-5x100-500epochs-bs128/model.ckpt.\n",
      "INFO:tensorflow:Calling checkpoint listeners after saving checkpoint 27858...\n",
      "INFO:tensorflow:loss = 3.8472626e-06, step = 27858\n",
      "INFO:tensorflow:global_step/sec: 27.5117\n",
      "INFO:tensorflow:loss = 1.5467329e-05, step = 27958 (3.639 sec)\n",
      "INFO:tensorflow:global_step/sec: 30.3167\n",
      "INFO:tensorflow:loss = 1.6811857e-05, step = 28058 (3.297 sec)\n",
      "INFO:tensorflow:global_step/sec: 30.0585\n",
      "INFO:tensorflow:loss = 2.1039601e-05, step = 28158 (3.327 sec)\n",
      "INFO:tensorflow:global_step/sec: 28.2468\n",
      "INFO:tensorflow:loss = 3.6756206e-05, step = 28258 (3.539 sec)\n",
      "INFO:tensorflow:global_step/sec: 29.5309\n",
      "INFO:tensorflow:loss = 1.1607427e-05, step = 28358 (3.389 sec)\n",
      "INFO:tensorflow:global_step/sec: 27.266\n",
      "INFO:tensorflow:loss = 1.1211195e-05, step = 28458 (3.667 sec)\n",
      "INFO:tensorflow:global_step/sec: 29.3033\n",
      "INFO:tensorflow:loss = 3.8159356e-05, step = 28558 (3.415 sec)\n",
      "INFO:tensorflow:global_step/sec: 27.8635\n",
      "INFO:tensorflow:loss = 2.2283071e-05, step = 28658 (3.587 sec)\n",
      "INFO:tensorflow:global_step/sec: 30.254\n",
      "INFO:tensorflow:loss = 4.057693e-05, step = 28758 (3.305 sec)\n",
      "INFO:tensorflow:global_step/sec: 29.7809\n",
      "INFO:tensorflow:loss = 4.6480272e-06, step = 28858 (3.356 sec)\n",
      "INFO:tensorflow:global_step/sec: 28.3226\n",
      "INFO:tensorflow:loss = 2.5971174e-05, step = 28958 (3.531 sec)\n",
      "INFO:tensorflow:global_step/sec: 29.1389\n",
      "INFO:tensorflow:loss = 3.7882513e-05, step = 29058 (3.444 sec)\n",
      "INFO:tensorflow:global_step/sec: 28.202\n",
      "INFO:tensorflow:loss = 1.2340412e-05, step = 29158 (3.535 sec)\n",
      "INFO:tensorflow:global_step/sec: 28.2623\n",
      "INFO:tensorflow:loss = 2.6796035e-05, step = 29258 (3.539 sec)\n",
      "INFO:tensorflow:global_step/sec: 29.5028\n",
      "INFO:tensorflow:loss = 1.0149166e-05, step = 29358 (3.388 sec)\n",
      "INFO:tensorflow:global_step/sec: 28.2561\n",
      "INFO:tensorflow:loss = 2.132055e-05, step = 29458 (3.551 sec)\n",
      "INFO:tensorflow:global_step/sec: 28.5328\n",
      "INFO:tensorflow:loss = 2.290542e-05, step = 29558 (3.492 sec)\n",
      "INFO:tensorflow:global_step/sec: 28.8646\n",
      "INFO:tensorflow:loss = 9.3786875e-06, step = 29658 (3.465 sec)\n",
      "INFO:tensorflow:global_step/sec: 28.4752\n",
      "INFO:tensorflow:loss = 7.722827e-06, step = 29758 (3.512 sec)\n",
      "INFO:tensorflow:global_step/sec: 30.4243\n",
      "INFO:tensorflow:loss = 3.0929823e-05, step = 29858 (3.287 sec)\n",
      "INFO:tensorflow:global_step/sec: 29.4315\n",
      "INFO:tensorflow:loss = 7.63325e-06, step = 29958 (3.400 sec)\n",
      "INFO:tensorflow:global_step/sec: 30.2056\n",
      "INFO:tensorflow:loss = 3.0330211e-05, step = 30058 (3.309 sec)\n",
      "INFO:tensorflow:global_step/sec: 29.8241\n",
      "INFO:tensorflow:loss = 1.1306819e-05, step = 30158 (3.353 sec)\n",
      "INFO:tensorflow:global_step/sec: 29.8383\n",
      "INFO:tensorflow:loss = 4.5796332e-06, step = 30258 (3.348 sec)\n",
      "INFO:tensorflow:global_step/sec: 29.8482\n",
      "INFO:tensorflow:loss = 3.078332e-05, step = 30358 (3.352 sec)\n",
      "INFO:tensorflow:global_step/sec: 29.8825\n",
      "INFO:tensorflow:loss = 8.366903e-06, step = 30458 (3.346 sec)\n",
      "INFO:tensorflow:global_step/sec: 30.1092\n",
      "INFO:tensorflow:loss = 3.7960534e-05, step = 30558 (3.320 sec)\n",
      "INFO:tensorflow:global_step/sec: 30.135\n",
      "INFO:tensorflow:loss = 8.432416e-06, step = 30658 (3.320 sec)\n",
      "INFO:tensorflow:global_step/sec: 30.7497\n",
      "INFO:tensorflow:loss = 1.9239564e-05, step = 30758 (3.252 sec)\n",
      "INFO:tensorflow:global_step/sec: 29.8404\n",
      "INFO:tensorflow:loss = 2.6367596e-05, step = 30858 (3.352 sec)\n",
      "INFO:tensorflow:global_step/sec: 30.2381\n",
      "INFO:tensorflow:loss = 6.7750543e-06, step = 30958 (3.305 sec)\n",
      "INFO:tensorflow:global_step/sec: 29.6031\n",
      "INFO:tensorflow:loss = 2.728868e-06, step = 31058 (3.379 sec)\n",
      "INFO:tensorflow:global_step/sec: 29.9753\n",
      "INFO:tensorflow:loss = 1.0588029e-05, step = 31158 (3.335 sec)\n",
      "INFO:tensorflow:global_step/sec: 29.9668\n",
      "INFO:tensorflow:loss = 3.7919817e-06, step = 31258 (3.337 sec)\n",
      "INFO:tensorflow:global_step/sec: 30.4424\n",
      "INFO:tensorflow:loss = 3.9874234e-05, step = 31358 (3.287 sec)\n",
      "INFO:tensorflow:global_step/sec: 30.2405\n",
      "INFO:tensorflow:loss = 1.0751157e-06, step = 31458 (3.305 sec)\n",
      "INFO:tensorflow:global_step/sec: 30.0402\n",
      "INFO:tensorflow:loss = 1.7524266e-05, step = 31558 (3.328 sec)\n",
      "INFO:tensorflow:global_step/sec: 30.1172\n",
      "INFO:tensorflow:loss = 1.9080075e-05, step = 31658 (3.322 sec)\n",
      "INFO:tensorflow:global_step/sec: 28.687\n",
      "INFO:tensorflow:loss = 8.153693e-06, step = 31758 (3.484 sec)\n",
      "INFO:tensorflow:global_step/sec: 29.6681\n",
      "INFO:tensorflow:loss = 5.517847e-06, step = 31858 (3.373 sec)\n",
      "INFO:tensorflow:global_step/sec: 30.1213\n",
      "INFO:tensorflow:loss = 3.8156308e-05, step = 31958 (3.318 sec)\n",
      "INFO:tensorflow:global_step/sec: 30.1509\n",
      "INFO:tensorflow:loss = 8.105008e-06, step = 32058 (3.318 sec)\n",
      "INFO:tensorflow:global_step/sec: 29.7726\n",
      "INFO:tensorflow:loss = 4.260637e-06, step = 32158 (3.358 sec)\n",
      "INFO:tensorflow:global_step/sec: 30.3905\n",
      "INFO:tensorflow:loss = 8.841149e-06, step = 32258 (3.291 sec)\n",
      "INFO:tensorflow:global_step/sec: 29.8085\n",
      "INFO:tensorflow:loss = 3.0234796e-06, step = 32358 (3.354 sec)\n",
      "INFO:tensorflow:global_step/sec: 30.4575\n",
      "INFO:tensorflow:loss = 3.3274566e-05, step = 32458 (3.284 sec)\n",
      "INFO:tensorflow:global_step/sec: 30.7395\n",
      "INFO:tensorflow:loss = 1.1883889e-05, step = 32558 (3.252 sec)\n",
      "INFO:tensorflow:global_step/sec: 29.6076\n",
      "INFO:tensorflow:loss = 4.049287e-05, step = 32658 (3.376 sec)\n",
      "INFO:tensorflow:global_step/sec: 30.0254\n",
      "INFO:tensorflow:loss = 1.5333357e-05, step = 32758 (3.331 sec)\n",
      "INFO:tensorflow:global_step/sec: 30.4686\n",
      "INFO:tensorflow:loss = 8.321153e-06, step = 32858 (3.285 sec)\n",
      "INFO:tensorflow:global_step/sec: 30.5507\n",
      "INFO:tensorflow:loss = 2.3056466e-05, step = 32958 (3.272 sec)\n",
      "INFO:tensorflow:global_step/sec: 30.114\n",
      "INFO:tensorflow:loss = 9.104189e-06, step = 33058 (3.318 sec)\n",
      "INFO:tensorflow:global_step/sec: 30.7575\n",
      "INFO:tensorflow:loss = 1.2194066e-05, step = 33158 (3.254 sec)\n",
      "INFO:tensorflow:global_step/sec: 30.6289\n",
      "INFO:tensorflow:loss = 3.3976662e-06, step = 33258 (3.264 sec)\n",
      "INFO:tensorflow:global_step/sec: 30.3508\n",
      "INFO:tensorflow:loss = 2.2487848e-05, step = 33358 (3.296 sec)\n",
      "INFO:tensorflow:global_step/sec: 30.3294\n",
      "INFO:tensorflow:loss = 2.5899571e-05, step = 33458 (3.295 sec)\n",
      "INFO:tensorflow:global_step/sec: 30.3403\n",
      "INFO:tensorflow:loss = 3.824837e-06, step = 33558 (3.295 sec)\n",
      "INFO:tensorflow:global_step/sec: 30.6375\n",
      "INFO:tensorflow:loss = 3.0464905e-06, step = 33658 (3.265 sec)\n",
      "INFO:tensorflow:global_step/sec: 29.4028\n",
      "INFO:tensorflow:loss = 2.3349916e-05, step = 33758 (3.410 sec)\n",
      "INFO:tensorflow:global_step/sec: 28.6399\n",
      "INFO:tensorflow:loss = 4.5683655e-06, step = 33858 (3.483 sec)\n",
      "INFO:tensorflow:global_step/sec: 29.85\n",
      "INFO:tensorflow:loss = 1.6342732e-05, step = 33958 (3.350 sec)\n",
      "INFO:tensorflow:global_step/sec: 30.6133\n",
      "INFO:tensorflow:loss = 1.4782902e-05, step = 34058 (3.267 sec)\n",
      "INFO:tensorflow:global_step/sec: 30.147\n",
      "INFO:tensorflow:loss = 2.1900934e-05, step = 34158 (3.316 sec)\n",
      "INFO:tensorflow:global_step/sec: 30.5889\n",
      "INFO:tensorflow:loss = 1.1433617e-05, step = 34258 (3.269 sec)\n",
      "INFO:tensorflow:global_step/sec: 30.2978\n",
      "INFO:tensorflow:loss = 3.3297579e-06, step = 34358 (3.302 sec)\n",
      "INFO:tensorflow:global_step/sec: 30.3883\n"
     ]
    },
    {
     "name": "stdout",
     "output_type": "stream",
     "text": [
      "INFO:tensorflow:loss = 1.0529548e-05, step = 34458 (3.290 sec)\n",
      "INFO:tensorflow:global_step/sec: 30.1891\n",
      "INFO:tensorflow:loss = 1.5111984e-05, step = 34558 (3.312 sec)\n",
      "INFO:tensorflow:global_step/sec: 30.7097\n",
      "INFO:tensorflow:loss = 1.9275456e-05, step = 34658 (3.255 sec)\n",
      "INFO:tensorflow:global_step/sec: 30.6131\n",
      "INFO:tensorflow:loss = 9.947645e-06, step = 34758 (3.267 sec)\n",
      "INFO:tensorflow:global_step/sec: 30.1008\n",
      "INFO:tensorflow:loss = 2.3553912e-06, step = 34858 (3.323 sec)\n",
      "INFO:tensorflow:global_step/sec: 30.6823\n",
      "INFO:tensorflow:loss = 1.6287531e-05, step = 34958 (3.261 sec)\n",
      "INFO:tensorflow:global_step/sec: 30.3481\n",
      "INFO:tensorflow:loss = 4.803948e-06, step = 35058 (3.292 sec)\n",
      "INFO:tensorflow:global_step/sec: 30.2808\n",
      "INFO:tensorflow:loss = 4.978666e-06, step = 35158 (3.305 sec)\n",
      "INFO:tensorflow:global_step/sec: 30.6784\n",
      "INFO:tensorflow:loss = 3.2843516e-05, step = 35258 (3.259 sec)\n",
      "INFO:tensorflow:global_step/sec: 29.4081\n",
      "INFO:tensorflow:loss = 1.0763879e-05, step = 35358 (3.400 sec)\n",
      "INFO:tensorflow:global_step/sec: 30.0735\n",
      "INFO:tensorflow:loss = 1.6908316e-05, step = 35458 (3.325 sec)\n",
      "INFO:tensorflow:global_step/sec: 30.5573\n",
      "INFO:tensorflow:loss = 1.5141714e-05, step = 35558 (3.290 sec)\n",
      "INFO:tensorflow:global_step/sec: 30.4924\n",
      "INFO:tensorflow:loss = 7.610952e-06, step = 35658 (3.263 sec)\n",
      "INFO:tensorflow:global_step/sec: 30.2673\n",
      "INFO:tensorflow:loss = 9.625169e-06, step = 35758 (3.304 sec)\n",
      "INFO:tensorflow:global_step/sec: 30.5709\n",
      "INFO:tensorflow:loss = 7.3653987e-06, step = 35858 (3.271 sec)\n",
      "INFO:tensorflow:global_step/sec: 30.3417\n",
      "INFO:tensorflow:loss = 1.5226182e-05, step = 35958 (3.295 sec)\n",
      "INFO:tensorflow:global_step/sec: 30.2742\n",
      "INFO:tensorflow:loss = 5.666966e-06, step = 36058 (3.302 sec)\n",
      "INFO:tensorflow:global_step/sec: 30.4722\n",
      "INFO:tensorflow:loss = 9.585579e-06, step = 36158 (3.283 sec)\n",
      "INFO:tensorflow:global_step/sec: 30.2223\n",
      "INFO:tensorflow:loss = 6.3146977e-06, step = 36258 (3.311 sec)\n",
      "INFO:tensorflow:global_step/sec: 30.4143\n",
      "INFO:tensorflow:loss = 2.8585446e-05, step = 36358 (3.288 sec)\n",
      "INFO:tensorflow:global_step/sec: 30.3187\n",
      "INFO:tensorflow:loss = 2.5684872e-06, step = 36458 (3.297 sec)\n",
      "INFO:tensorflow:global_step/sec: 30.6777\n",
      "INFO:tensorflow:loss = 1.3452589e-05, step = 36558 (3.261 sec)\n",
      "INFO:tensorflow:global_step/sec: 30.4943\n",
      "INFO:tensorflow:loss = 2.1106148e-06, step = 36658 (3.279 sec)\n",
      "INFO:tensorflow:global_step/sec: 30.2033\n",
      "INFO:tensorflow:loss = 1.8275898e-05, step = 36758 (3.312 sec)\n",
      "INFO:tensorflow:Calling checkpoint listeners before saving checkpoint 36804...\n",
      "INFO:tensorflow:Saving checkpoints for 36804 into /Users/kw/ciml_data/cimlodsceu2019seed/usr_1m-1min-status/dnn-5x100-500epochs-bs128/model.ckpt.\n",
      "INFO:tensorflow:Calling checkpoint listeners after saving checkpoint 36804...\n",
      "INFO:tensorflow:global_step/sec: 28.4942\n",
      "INFO:tensorflow:loss = 1.12767e-05, step = 36858 (3.506 sec)\n",
      "INFO:tensorflow:global_step/sec: 29.0434\n",
      "INFO:tensorflow:loss = 4.1019566e-06, step = 36958 (3.445 sec)\n",
      "INFO:tensorflow:global_step/sec: 29.0885\n",
      "INFO:tensorflow:loss = 3.0581807e-06, step = 37058 (3.437 sec)\n",
      "INFO:tensorflow:Calling checkpoint listeners before saving checkpoint 37144...\n",
      "INFO:tensorflow:Saving checkpoints for 37144 into /Users/kw/ciml_data/cimlodsceu2019seed/usr_1m-1min-status/dnn-5x100-500epochs-bs128/model.ckpt.\n",
      "INFO:tensorflow:Calling checkpoint listeners after saving checkpoint 37144...\n",
      "INFO:tensorflow:Loss for final step: 1.4594381e-05.\n"
     ]
    }
   ],
   "source": [
    "training_result = tf_trainer.get_training_method(estimator)(\n",
    "                    input_fn=tf_trainer.get_input_fn(shuffle=True,\n",
    "                    batch_size=batch_size, num_epochs=num_epochs,\n",
    "                    labels=labels, **training_data), steps=steps)"
   ]
  },
  {
   "cell_type": "markdown",
   "metadata": {},
   "source": [
    "We evaluate the trained model with the testset."
   ]
  },
  {
   "cell_type": "code",
   "execution_count": 67,
   "metadata": {},
   "outputs": [],
   "source": [
    "eval_data = gather_results.load_dataset(dataset, 'test', data_path=data_path)"
   ]
  },
  {
   "cell_type": "code",
   "execution_count": 68,
   "metadata": {},
   "outputs": [
    {
     "data": {
      "text/plain": [
       "dict_keys(['examples', 'example_ids', 'classes'])"
      ]
     },
     "execution_count": 68,
     "metadata": {},
     "output_type": "execute_result"
    }
   ],
   "source": [
    "eval_size = len(eval_data['example_ids'])\n",
    "eval_data.keys()"
   ]
  },
  {
   "cell_type": "markdown",
   "metadata": {},
   "source": [
    "We analyse the predictions of our trained model.\n",
    "<br>Info logging is enabled to monitor the status of the training."
   ]
  },
  {
   "cell_type": "code",
   "execution_count": 69,
   "metadata": {},
   "outputs": [],
   "source": [
    "prediction = estimator.predict(input_fn=tf_trainer.get_input_fn(\n",
    "                                batch_size=eval_size, num_epochs=1,\n",
    "                                labels=labels, **eval_data))"
   ]
  },
  {
   "cell_type": "code",
   "execution_count": 70,
   "metadata": {},
   "outputs": [
    {
     "name": "stdout",
     "output_type": "stream",
     "text": [
      "INFO:tensorflow:Calling model_fn.\n",
      "WARNING:tensorflow:Layer dnn is casting an input tensor from dtype float64 to the layer's dtype of float32, which is new behavior in TensorFlow 2.  The layer has dtype float32 because it's dtype defaults to floatx.\n",
      "\n",
      "If you intended to run this layer in float32, you can safely ignore this warning. If in doubt, this warning is likely only an issue if you are porting a TensorFlow 1.X model to TensorFlow 2.\n",
      "\n",
      "To change all layers to have dtype float64 by default, call `tf.keras.backend.set_floatx('float64')`. To change just this layer, pass dtype='float64' to the layer constructor. If you are the author of this layer, you can disable autocasting by passing autocast=False to the base Layer constructor.\n",
      "\n",
      "INFO:tensorflow:Done calling model_fn.\n",
      "INFO:tensorflow:Graph was finalized.\n",
      "INFO:tensorflow:Restoring parameters from /Users/kw/ciml_data/cimlodsceu2019seed/usr_1m-1min-status/dnn-5x100-500epochs-bs128/model.ckpt-37144\n",
      "INFO:tensorflow:Running local_init_op.\n",
      "INFO:tensorflow:Done running local_init_op.\n"
     ]
    }
   ],
   "source": [
    "predictions = [x for x in prediction]"
   ]
  },
  {
   "cell_type": "code",
   "execution_count": 71,
   "metadata": {},
   "outputs": [
    {
     "data": {
      "text/plain": [
       "[744, 37, 7, 6]"
      ]
     },
     "execution_count": 71,
     "metadata": {},
     "output_type": "execute_result"
    }
   ],
   "source": [
    "p_classes = [x[\"class_ids\"][0] for x in predictions]\n",
    "actual_classes = eval_data[\"classes\"]\n",
    "classes = zip(p_classes, actual_classes)\n",
    "counter = collections.Counter(classes)\n",
    "sorted(counter.values(), reverse=True)[:15]"
   ]
  },
  {
   "cell_type": "code",
   "execution_count": 72,
   "metadata": {},
   "outputs": [
    {
     "data": {
      "text/plain": [
       "Counter({(0, 0): 744, (1, 1): 37, (0, 1): 7, (1, 0): 6})"
      ]
     },
     "execution_count": 72,
     "metadata": {},
     "output_type": "execute_result"
    }
   ],
   "source": [
    "counter"
   ]
  },
  {
   "cell_type": "markdown",
   "metadata": {},
   "source": [
    "Let's save the predictions of the trained model in a zipped json file."
   ]
  },
  {
   "cell_type": "code",
   "execution_count": 74,
   "metadata": {},
   "outputs": [],
   "source": [
    "serializable_pred = []\n",
    "for pred in predictions:\n",
    "    _classes = pred['classes']\n",
    "    _all_classes = pred['all_classes']\n",
    "    pred['classes'] = [x.decode(\"utf-8\") for x in _classes]\n",
    "    pred['all_classes'] = [x.decode(\"utf-8\") for x in _all_classes]\n",
    "    serializable_pred.append(pred)\n",
    "\n",
    "prediction_name = \"prediction_\" + dataset\n",
    "pred_data = zip(eval_data['example_ids'], serializable_pred,\n",
    "                eval_data['classes'])\n",
    "gather_results.save_data_json(\n",
    "    dataset, [x for x in pred_data],\n",
    "    prediction_name, sub_folder=experiment, data_path=data_path)"
   ]
  }
 ],
 "metadata": {
  "hide_input": false,
  "kernelspec": {
   "display_name": ".venv-mpl",
   "language": "python",
   "name": ".venv-mpl"
  },
  "language_info": {
   "codemirror_mode": {
    "name": "ipython",
    "version": 3
   },
   "file_extension": ".py",
   "mimetype": "text/x-python",
   "name": "python",
   "nbconvert_exporter": "python",
   "pygments_lexer": "ipython3",
   "version": "3.8.2"
  }
 },
 "nbformat": 4,
 "nbformat_minor": 2
}
